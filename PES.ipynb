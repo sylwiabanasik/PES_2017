{
  "nbformat": 4,
  "nbformat_minor": 0,
  "metadata": {
    "colab": {
      "name": "Untitled0.ipynb",
      "provenance": [],
      "authorship_tag": "ABX9TyODDsnVFECj2AsJszQLglTn",
      "include_colab_link": true
    },
    "kernelspec": {
      "name": "python3",
      "display_name": "Python 3"
    },
    "language_info": {
      "name": "python"
    }
  },
  "cells": [
    {
      "cell_type": "markdown",
      "metadata": {
        "id": "view-in-github",
        "colab_type": "text"
      },
      "source": [
        "<a href=\"https://colab.research.google.com/github/sylwiabanasik/PES_2017/blob/main/PES.ipynb\" target=\"_parent\"><img src=\"https://colab.research.google.com/assets/colab-badge.svg\" alt=\"Open In Colab\"/></a>"
      ]
    },
    {
      "cell_type": "code",
      "execution_count": 1,
      "metadata": {
        "id": "xMqCxFQF4GT1"
      },
      "outputs": [],
      "source": [
        "import pandas as pd"
      ]
    },
    {
      "cell_type": "code",
      "source": [
        "file = 'pes_2017_database.xlsx'\n",
        "xlsx = pd.ExcelFile(file)\n",
        "#display(xlsx.sheet_names)\n",
        "sheet = 'Planilha1'\n",
        "df = xlsx.parse(sheet)"
      ],
      "metadata": {
        "id": "cQ-Wn-UJ-CWu"
      },
      "execution_count": 19,
      "outputs": []
    },
    {
      "cell_type": "code",
      "source": [
        "pos = {\n",
        "'SS':'Attack',\n",
        "'RWF':'Attack',\n",
        "'LWF':'Attack',\n",
        "'AMF':'Attack',\n",
        "'CF':'Attack',\n",
        "'CMF':'Attack',\n",
        "'DMF':'Attack',\n",
        "'LMF':'Attack',\n",
        "'RMF':'Attack',\n",
        "'CB':'Defenders',\n",
        "'LB':'Defenders',\n",
        "'RB':'Defenders',\n",
        "'GK':'Defenders'\n",
        "}\n",
        "df['Pos'] = df['Position'].replace(pos)"
      ],
      "metadata": {
        "id": "4HmaTpUtI-64"
      },
      "execution_count": 23,
      "outputs": []
    },
    {
      "cell_type": "code",
      "source": [
        "gk_feat = ['Goalkeeping','Catching','Clearing','Reflexes','Coverage']\n",
        "oth_feat = ['Pesid','TeamName','Position','PlayerName','NamePrint','Nationality']\n",
        "feat = df.columns[~df.columns.isin(gk_feat + oth_feat)]\n",
        "df_ = df[feat][df['Position'] != 'GK']"
      ],
      "metadata": {
        "id": "gVr3qaNPDaPE"
      },
      "execution_count": 52,
      "outputs": []
    }
  ]
}